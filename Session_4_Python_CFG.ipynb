{
  "nbformat": 4,
  "nbformat_minor": 0,
  "metadata": {
    "colab": {
      "provenance": [],
      "authorship_tag": "ABX9TyN/VQwbJo/gimekCXrXhS+1",
      "include_colab_link": true
    },
    "kernelspec": {
      "name": "python3",
      "display_name": "Python 3"
    },
    "language_info": {
      "name": "python"
    }
  },
  "cells": [
    {
      "cell_type": "markdown",
      "metadata": {
        "id": "view-in-github",
        "colab_type": "text"
      },
      "source": [
        "<a href=\"https://colab.research.google.com/github/meimeitan/CFG_Python_Lesson-4/blob/main/Session_4_Python_CFG.ipynb\" target=\"_parent\"><img src=\"https://colab.research.google.com/assets/colab-badge.svg\" alt=\"Open In Colab\"/></a>"
      ]
    },
    {
      "cell_type": "code",
      "execution_count": 1,
      "metadata": {
        "colab": {
          "base_uri": "https://localhost:8080/"
        },
        "id": "jybSawdS8WoR",
        "outputId": "bfdeaa69-3f98-4e8a-8065-2eb16ed9ba8d"
      },
      "outputs": [
        {
          "output_type": "stream",
          "name": "stdout",
          "text": [
            "['bread', 'jam', 'honey']\n"
          ]
        }
      ],
      "source": [
        "shopping = [\"bread\", \"jam\", \"honey\"]\n",
        "print(shopping)"
      ]
    },
    {
      "cell_type": "code",
      "source": [
        "new_shopping = input(\"provide new list\")\n",
        "shopping.append(new_shopping)"
      ],
      "metadata": {
        "colab": {
          "base_uri": "https://localhost:8080/"
        },
        "id": "vylVAtb_8z9J",
        "outputId": "05d7fea3-92a2-4c5d-e9e6-b765579f54f2"
      },
      "execution_count": 2,
      "outputs": [
        {
          "name": "stdout",
          "output_type": "stream",
          "text": [
            "provide new listbutter\n"
          ]
        }
      ]
    },
    {
      "cell_type": "code",
      "source": [
        "print(shopping)"
      ],
      "metadata": {
        "colab": {
          "base_uri": "https://localhost:8080/"
        },
        "id": "Q5k-IJKG9LLH",
        "outputId": "cb39bcda-6a10-4f27-ffde-678eac7b4b34"
      },
      "execution_count": 3,
      "outputs": [
        {
          "output_type": "stream",
          "name": "stdout",
          "text": [
            "['bread', 'jam', 'honey', 'butter']\n"
          ]
        }
      ]
    },
    {
      "cell_type": "code",
      "source": [
        "student_names= [\"Didi\", \"Hank\", \"Helena\"]\n",
        "\n",
        "for student_name in student_names:\n",
        "  print (student_name)"
      ],
      "metadata": {
        "colab": {
          "base_uri": "https://localhost:8080/"
        },
        "id": "ELMHJ6Vq9PxN",
        "outputId": "5d4815ea-6f38-4b79-8da4-456b9ad35e92"
      },
      "execution_count": 6,
      "outputs": [
        {
          "output_type": "stream",
          "name": "stdout",
          "text": [
            "Didi\n",
            "Hank\n",
            "Helena\n"
          ]
        }
      ]
    },
    {
      "cell_type": "code",
      "source": [
        "student_names= [\"Didi\", \"Hank\", \"Helena\"]\n",
        "number_of_students = 0\n",
        "\n",
        "for student_name in student_names:\n",
        "  number_of_students += 1\n",
        "\n",
        "print (number_of_students)"
      ],
      "metadata": {
        "colab": {
          "base_uri": "https://localhost:8080/"
        },
        "id": "SpHTnZjP-T__",
        "outputId": "888a1e52-566d-4659-d881-165de613ec51"
      },
      "execution_count": 7,
      "outputs": [
        {
          "output_type": "stream",
          "name": "stdout",
          "text": [
            "3\n"
          ]
        }
      ]
    },
    {
      "cell_type": "code",
      "source": [
        "costs = [8.30, 7.12, 5.01, 1.00, 0.99, 5.92, 3.50]\n",
        "total_cost = 0\n",
        "\n",
        "for cost in costs:\n",
        "  total_cost += cost\n",
        "\n",
        "  print(total_cost)"
      ],
      "metadata": {
        "colab": {
          "base_uri": "https://localhost:8080/"
        },
        "id": "S1OYsg-C-6-I",
        "outputId": "8b79e9a9-983f-4635-e874-73d7b769a898"
      },
      "execution_count": 11,
      "outputs": [
        {
          "output_type": "stream",
          "name": "stdout",
          "text": [
            "8.3\n",
            "15.420000000000002\n",
            "20.43\n",
            "21.43\n",
            "22.419999999999998\n",
            "28.339999999999996\n",
            "31.839999999999996\n"
          ]
        }
      ]
    },
    {
      "cell_type": "code",
      "source": [
        "costs = [8.30, 7.12, 5.01, 1.00, 0.99, 5.92, 3.50]\n",
        "total_cost = 0\n",
        "\n",
        "for cost in costs:\n",
        "  total_cost += cost\n",
        "\n",
        "print(total_cost)"
      ],
      "metadata": {
        "colab": {
          "base_uri": "https://localhost:8080/"
        },
        "id": "pCfLbAo2_h-A",
        "outputId": "3c5317c5-3d3d-44f2-89c2-beede3d04136"
      },
      "execution_count": 12,
      "outputs": [
        {
          "output_type": "stream",
          "name": "stdout",
          "text": [
            "31.839999999999996\n"
          ]
        }
      ]
    },
    {
      "cell_type": "code",
      "source": [
        "place ={\n",
        "    \"name\": \"anchor\",\n",
        "    \"post_code\": \"ex16 6uw\",\n",
        "    \"street_number\": \"54\",\n",
        "    \"location\": {\n",
        "        \"longitude\": 127,\n",
        "        \"latidute\": 63,\n",
        "    }\n",
        "}"
      ],
      "metadata": {
        "id": "mgu3MiGECUKI"
      },
      "execution_count": 13,
      "outputs": []
    },
    {
      "cell_type": "code",
      "source": [],
      "metadata": {
        "id": "W2SdN7BYCrBR"
      },
      "execution_count": null,
      "outputs": []
    }
  ]
}